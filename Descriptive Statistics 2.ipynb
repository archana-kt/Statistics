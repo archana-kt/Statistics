{
 "cells": [
  {
   "cell_type": "markdown",
   "id": "ee8149ac",
   "metadata": {},
   "source": [
    "# Descriptive Statistics"
   ]
  },
  {
   "cell_type": "raw",
   "id": "6b6394a6",
   "metadata": {},
   "source": [
    "Statistics is mainly divided into 2 parts:\n",
    "\n",
    "Descriptive\n",
    "Inferential\n",
    "Two important terminologies to be understood before moving any further are population and sample.\n",
    "\n",
    "The population refers to the complete record of observation(rows) and features(columns). They are usually very big in size when solving real-time problems.\n",
    "\n",
    "The sample is a part or subset of the population where statistical studies will be conducted on it to understand what it is going to be for the population it comes from."
   ]
  },
  {
   "cell_type": "raw",
   "id": "63ddf579",
   "metadata": {},
   "source": [
    "Descriptive Statistics – It is the study of the sample wherein we try to find out different measures(mean, median, variance…) and their dependence/inter-dependence on the existing features."
   ]
  },
  {
   "cell_type": "markdown",
   "id": "d2917038",
   "metadata": {},
   "source": [
    "# Measure of Central Tendency:"
   ]
  },
  {
   "cell_type": "raw",
   "id": "0b497da8",
   "metadata": {},
   "source": [
    "There are 3 measures of tendency namely mean, median, and mode. "
   ]
  },
  {
   "cell_type": "code",
   "execution_count": 27,
   "id": "149b87ab",
   "metadata": {},
   "outputs": [],
   "source": [
    "# Mean"
   ]
  },
  {
   "cell_type": "raw",
   "id": "27e23a8c",
   "metadata": {},
   "source": [
    "The mean is the average of the numerical values of a feature. When we have extreme values in the numerical list, the mean tends to move towards the extreme value. Hence, the mean is not recommended during such times. "
   ]
  },
  {
   "cell_type": "code",
   "execution_count": 28,
   "id": "feae064c",
   "metadata": {},
   "outputs": [],
   "source": [
    "x = np.random.randint(10, size = 10)"
   ]
  },
  {
   "cell_type": "code",
   "execution_count": 29,
   "id": "26785a04",
   "metadata": {},
   "outputs": [
    {
     "data": {
      "text/plain": [
       "array([8, 9, 8, 0, 6, 8, 8, 8, 1, 2])"
      ]
     },
     "execution_count": 29,
     "metadata": {},
     "output_type": "execute_result"
    }
   ],
   "source": [
    "x"
   ]
  },
  {
   "cell_type": "code",
   "execution_count": 30,
   "id": "99fe15f5",
   "metadata": {},
   "outputs": [
    {
     "data": {
      "text/plain": [
       "5.8"
      ]
     },
     "execution_count": 30,
     "metadata": {},
     "output_type": "execute_result"
    }
   ],
   "source": [
    "np.mean(x)"
   ]
  },
  {
   "cell_type": "code",
   "execution_count": 31,
   "id": "b4fbabad",
   "metadata": {},
   "outputs": [],
   "source": [
    "mean = sum(x) / len(x)"
   ]
  },
  {
   "cell_type": "code",
   "execution_count": 32,
   "id": "9b2f0dc5",
   "metadata": {},
   "outputs": [
    {
     "data": {
      "text/plain": [
       "5.8"
      ]
     },
     "execution_count": 32,
     "metadata": {},
     "output_type": "execute_result"
    }
   ],
   "source": [
    "mean"
   ]
  },
  {
   "cell_type": "code",
   "execution_count": 33,
   "id": "cec2f32d",
   "metadata": {},
   "outputs": [
    {
     "data": {
      "text/plain": [
       "5.8"
      ]
     },
     "execution_count": 33,
     "metadata": {},
     "output_type": "execute_result"
    }
   ],
   "source": [
    "np.average(x)"
   ]
  },
  {
   "cell_type": "code",
   "execution_count": 34,
   "id": "13e3b556",
   "metadata": {},
   "outputs": [],
   "source": [
    "# Median"
   ]
  },
  {
   "cell_type": "raw",
   "id": "a6031f5a",
   "metadata": {},
   "source": [
    "The median divides the datapoints into 2 equal halves and take the middle value as opposed to the average done in the case of mean. This makes the median immune to the presence of extreme values as it does not in any way use them for calculation."
   ]
  },
  {
   "cell_type": "code",
   "execution_count": 35,
   "id": "f413c3e4",
   "metadata": {},
   "outputs": [
    {
     "data": {
      "text/plain": [
       "array([8, 9, 8, 0, 6, 8, 8, 8, 1, 2])"
      ]
     },
     "execution_count": 35,
     "metadata": {},
     "output_type": "execute_result"
    }
   ],
   "source": [
    "x"
   ]
  },
  {
   "cell_type": "code",
   "execution_count": 36,
   "id": "7ff7800a",
   "metadata": {},
   "outputs": [
    {
     "data": {
      "text/plain": [
       "8.0"
      ]
     },
     "execution_count": 36,
     "metadata": {},
     "output_type": "execute_result"
    }
   ],
   "source": [
    "np.median(x)"
   ]
  },
  {
   "cell_type": "code",
   "execution_count": 37,
   "id": "6538d31c",
   "metadata": {},
   "outputs": [],
   "source": [
    "sort_x = np.sort(x)"
   ]
  },
  {
   "cell_type": "code",
   "execution_count": 38,
   "id": "192ae5f8",
   "metadata": {},
   "outputs": [
    {
     "data": {
      "text/plain": [
       "array([0, 1, 2, 6, 8, 8, 8, 8, 8, 9])"
      ]
     },
     "execution_count": 38,
     "metadata": {},
     "output_type": "execute_result"
    }
   ],
   "source": [
    "sort_x"
   ]
  },
  {
   "cell_type": "code",
   "execution_count": 41,
   "id": "65b1cea2",
   "metadata": {},
   "outputs": [
    {
     "data": {
      "text/plain": [
       "8.0"
      ]
     },
     "execution_count": 41,
     "metadata": {},
     "output_type": "execute_result"
    }
   ],
   "source": [
    "np.median(sort_x)"
   ]
  },
  {
   "cell_type": "code",
   "execution_count": 42,
   "id": "2dbb0c4b",
   "metadata": {},
   "outputs": [],
   "source": [
    "# Mode"
   ]
  },
  {
   "cell_type": "raw",
   "id": "5fa8513f",
   "metadata": {},
   "source": [
    "The mode is the frequency of the highest occurring element in the group. "
   ]
  },
  {
   "cell_type": "code",
   "execution_count": 44,
   "id": "7484c648",
   "metadata": {},
   "outputs": [
    {
     "data": {
      "text/plain": [
       "array([8, 9, 8, 0, 6, 8, 8, 8, 1, 2])"
      ]
     },
     "execution_count": 44,
     "metadata": {},
     "output_type": "execute_result"
    }
   ],
   "source": [
    "x"
   ]
  },
  {
   "cell_type": "code",
   "execution_count": 47,
   "id": "53936d0a",
   "metadata": {},
   "outputs": [],
   "source": [
    "from scipy import stats"
   ]
  },
  {
   "cell_type": "code",
   "execution_count": 51,
   "id": "084e9980",
   "metadata": {},
   "outputs": [
    {
     "data": {
      "text/plain": [
       "ModeResult(mode=array([8]), count=array([5]))"
      ]
     },
     "execution_count": 51,
     "metadata": {},
     "output_type": "execute_result"
    }
   ],
   "source": [
    "stats.mode(x)"
   ]
  },
  {
   "cell_type": "markdown",
   "id": "6640de1c",
   "metadata": {},
   "source": [
    "## Measure of Location"
   ]
  },
  {
   "cell_type": "raw",
   "id": "5d35b852",
   "metadata": {},
   "source": [
    "In this part, we will look into a measure called “quantile” which may or may not divide the numerical data into equal halves. If the data is divided into 4 different equal parts, then the quantiles become “quartiles” which is what we will be concentrating on here"
   ]
  },
  {
   "attachments": {
    "image.png": {
     "image/png": "[encoded data removed]"
    }
   },
   "cell_type": "markdown",
   "id": "ef24bf5c",
   "metadata": {},
   "source": [
    "![image.png](attachment:image.png)"
   ]
  },
  {
   "cell_type": "raw",
   "id": "b47a93dc",
   "metadata": {},
   "source": [
    "The above box plot has 5 important points:\n",
    "\n",
    "a) Min(Q0): This is the lowest value in the numerical dataset.\n",
    "\n",
    "b) Lower Quartile(Q1): This is the point that accounts for 25% of the data points.\n",
    "\n",
    "c) Median(Q2): This point generally gives the idea about the 50% datapoint value of the dataset which divides the numerical data into 2 halves.\n",
    "\n",
    "d) Upper Quartile(Q3): This is the point that accounts for 75% of the data points.\n",
    "\n",
    "e) Max(Q4): This is the highest value in the numerical dataset."
   ]
  },
  {
   "cell_type": "raw",
   "id": "27fec918",
   "metadata": {},
   "source": [
    "The difference between Q3 and Q1 gives us information about the range of most of the values in the dataset. This difference is called the “Inter-Quartile Range(IQR)”.\n",
    "\n",
    "Hence, IQR=Q3-Q1"
   ]
  },
  {
   "cell_type": "markdown",
   "id": "746d01bb",
   "metadata": {},
   "source": [
    "## Quartiles"
   ]
  },
  {
   "cell_type": "code",
   "execution_count": 1,
   "id": "ea5cd278",
   "metadata": {},
   "outputs": [],
   "source": [
    "import numpy as np"
   ]
  },
  {
   "cell_type": "code",
   "execution_count": 2,
   "id": "1ee2ca70",
   "metadata": {},
   "outputs": [],
   "source": [
    "x = np.random.randint(10, size = 10)"
   ]
  },
  {
   "cell_type": "code",
   "execution_count": 3,
   "id": "3e568525",
   "metadata": {},
   "outputs": [
    {
     "data": {
      "text/plain": [
       "array([0, 9, 8, 1, 9, 0, 8, 3, 0, 3])"
      ]
     },
     "execution_count": 3,
     "metadata": {},
     "output_type": "execute_result"
    }
   ],
   "source": [
    "x"
   ]
  },
  {
   "cell_type": "code",
   "execution_count": 4,
   "id": "96038bcf",
   "metadata": {},
   "outputs": [],
   "source": [
    "sort_x = np.sort(x)"
   ]
  },
  {
   "cell_type": "code",
   "execution_count": 5,
   "id": "c74e5497",
   "metadata": {},
   "outputs": [
    {
     "data": {
      "text/plain": [
       "array([0, 0, 0, 1, 3, 3, 8, 8, 9, 9])"
      ]
     },
     "execution_count": 5,
     "metadata": {},
     "output_type": "execute_result"
    }
   ],
   "source": [
    "sort_x"
   ]
  },
  {
   "cell_type": "code",
   "execution_count": 6,
   "id": "a0749cf4",
   "metadata": {},
   "outputs": [
    {
     "data": {
      "text/plain": [
       "10"
      ]
     },
     "execution_count": 6,
     "metadata": {},
     "output_type": "execute_result"
    }
   ],
   "source": [
    "len(x)"
   ]
  },
  {
   "cell_type": "code",
   "execution_count": 7,
   "id": "7d558f4c",
   "metadata": {},
   "outputs": [],
   "source": [
    "# First quartile"
   ]
  },
  {
   "cell_type": "code",
   "execution_count": 8,
   "id": "a3ac285a",
   "metadata": {},
   "outputs": [],
   "source": [
    "q1 = np.percentile(sort_x, 25)"
   ]
  },
  {
   "cell_type": "code",
   "execution_count": 25,
   "id": "967daa06",
   "metadata": {},
   "outputs": [
    {
     "data": {
      "text/plain": [
       "0.25"
      ]
     },
     "execution_count": 25,
     "metadata": {},
     "output_type": "execute_result"
    }
   ],
   "source": [
    "np.quantile(x,0.25) # Both are same result "
   ]
  },
  {
   "cell_type": "code",
   "execution_count": 9,
   "id": "0a6458bc",
   "metadata": {},
   "outputs": [
    {
     "data": {
      "text/plain": [
       "0.25"
      ]
     },
     "execution_count": 9,
     "metadata": {},
     "output_type": "execute_result"
    }
   ],
   "source": [
    "q1"
   ]
  },
  {
   "cell_type": "code",
   "execution_count": 10,
   "id": "ce38f348",
   "metadata": {},
   "outputs": [],
   "source": [
    "q2 = np.percentile(sort_x, 75)"
   ]
  },
  {
   "cell_type": "code",
   "execution_count": 11,
   "id": "a7429c84",
   "metadata": {},
   "outputs": [
    {
     "data": {
      "text/plain": [
       "8.0"
      ]
     },
     "execution_count": 11,
     "metadata": {},
     "output_type": "execute_result"
    }
   ],
   "source": [
    "q2"
   ]
  },
  {
   "cell_type": "code",
   "execution_count": 26,
   "id": "f6cd30c0",
   "metadata": {},
   "outputs": [
    {
     "data": {
      "text/plain": [
       "8.0"
      ]
     },
     "execution_count": 26,
     "metadata": {},
     "output_type": "execute_result"
    }
   ],
   "source": [
    "np.quantile(x,0.75)"
   ]
  },
  {
   "cell_type": "code",
   "execution_count": 12,
   "id": "ac548f1c",
   "metadata": {},
   "outputs": [],
   "source": [
    "q3 = np.percentile(sort_x,75)"
   ]
  },
  {
   "cell_type": "code",
   "execution_count": 13,
   "id": "35dd90f5",
   "metadata": {},
   "outputs": [
    {
     "data": {
      "text/plain": [
       "8.0"
      ]
     },
     "execution_count": 13,
     "metadata": {},
     "output_type": "execute_result"
    }
   ],
   "source": [
    "q3"
   ]
  },
  {
   "cell_type": "code",
   "execution_count": 14,
   "id": "0720ebc7",
   "metadata": {},
   "outputs": [
    {
     "data": {
      "text/plain": [
       "0"
      ]
     },
     "execution_count": 14,
     "metadata": {},
     "output_type": "execute_result"
    }
   ],
   "source": [
    "np.min(sort_x)"
   ]
  },
  {
   "cell_type": "code",
   "execution_count": 15,
   "id": "c07ca51d",
   "metadata": {},
   "outputs": [
    {
     "data": {
      "text/plain": [
       "9"
      ]
     },
     "execution_count": 15,
     "metadata": {},
     "output_type": "execute_result"
    }
   ],
   "source": [
    "np.max(sort_x)"
   ]
  },
  {
   "cell_type": "code",
   "execution_count": 16,
   "id": "af5ea811",
   "metadata": {},
   "outputs": [],
   "source": [
    "# IQR"
   ]
  },
  {
   "cell_type": "code",
   "execution_count": 17,
   "id": "a0d08008",
   "metadata": {},
   "outputs": [],
   "source": [
    "iqr = q3 - q1"
   ]
  },
  {
   "cell_type": "code",
   "execution_count": 18,
   "id": "86efa217",
   "metadata": {},
   "outputs": [
    {
     "data": {
      "text/plain": [
       "7.75"
      ]
     },
     "execution_count": 18,
     "metadata": {},
     "output_type": "execute_result"
    }
   ],
   "source": [
    "iqr"
   ]
  },
  {
   "cell_type": "code",
   "execution_count": 19,
   "id": "844d2ae7",
   "metadata": {},
   "outputs": [],
   "source": [
    "# Define the lower and upper bounds for outliers\n",
    "\n",
    "lower_bound = q1 - 1.5 * iqr\n",
    "upper_bound = q3 + 1.5 * iqr"
   ]
  },
  {
   "cell_type": "code",
   "execution_count": 20,
   "id": "8cca64e7",
   "metadata": {},
   "outputs": [
    {
     "data": {
      "text/plain": [
       "-11.375"
      ]
     },
     "execution_count": 20,
     "metadata": {},
     "output_type": "execute_result"
    }
   ],
   "source": [
    "lower_bound"
   ]
  },
  {
   "cell_type": "code",
   "execution_count": 21,
   "id": "f5c64418",
   "metadata": {},
   "outputs": [
    {
     "data": {
      "text/plain": [
       "19.625"
      ]
     },
     "execution_count": 21,
     "metadata": {},
     "output_type": "execute_result"
    }
   ],
   "source": [
    "upper_bound"
   ]
  },
  {
   "cell_type": "code",
   "execution_count": 22,
   "id": "96056bbe",
   "metadata": {},
   "outputs": [],
   "source": [
    "import matplotlib.pyplot as plt"
   ]
  },
  {
   "cell_type": "code",
   "execution_count": 23,
   "id": "0617e786",
   "metadata": {},
   "outputs": [],
   "source": [
    "import seaborn as sns"
   ]
  },
  {
   "cell_type": "code",
   "execution_count": 24,
   "id": "93f28add",
   "metadata": {},
   "outputs": [
    {
     "name": "stderr",
     "output_type": "stream",
     "text": [
      "/Users/archanaqueen/opt/anaconda3/lib/python3.9/site-packages/seaborn/_decorators.py:36: FutureWarning: Pass the following variable as a keyword arg: x. From version 0.12, the only valid positional argument will be `data`, and passing other arguments without an explicit keyword will result in an error or misinterpretation.\n",
      "  warnings.warn(\n"
     ]
    },
    {
     "data": {
      "text/plain": [
       "<AxesSubplot:>"
      ]
     },
     "execution_count": 24,
     "metadata": {},
     "output_type": "execute_result"
    },
    {
     "data": {
      "image/png": "[encoded data removed]",
      "text/plain": [
       "<Figure size 432x288 with 1 Axes>"
      ]
     },
     "metadata": {
      "needs_background": "light"
     },
     "output_type": "display_data"
    }
   ],
   "source": [
    "sns.boxplot(x)"
   ]
  }
 ],
 "metadata": {
  "kernelspec": {
   "display_name": "Python 3 (ipykernel)",
   "language": "python",
   "name": "python3"
  },
  "language_info": {
   "codemirror_mode": {
    "name": "ipython",
    "version": 3
   },
   "file_extension": ".py",
   "mimetype": "text/x-python",
   "name": "python",
   "nbconvert_exporter": "python",
   "pygments_lexer": "ipython3",
   "version": "3.9.7"
  }
 },
 "nbformat": 4,
 "nbformat_minor": 5
}
